{
  "nbformat": 4,
  "nbformat_minor": 0,
  "metadata": {
    "colab": {
      "provenance": [],
      "authorship_tag": "ABX9TyNU2Z8hW0UzUIg/ms9f4+vL",
      "include_colab_link": true
    },
    "kernelspec": {
      "name": "python3",
      "display_name": "Python 3"
    },
    "language_info": {
      "name": "python"
    }
  },
  "cells": [
    {
      "cell_type": "markdown",
      "metadata": {
        "id": "view-in-github",
        "colab_type": "text"
      },
      "source": [
        "<a href=\"https://colab.research.google.com/github/JackPerry0/DeterminantCalculator/blob/main/DeterminantBackPropogationCalculator.ipynb\" target=\"_parent\"><img src=\"https://colab.research.google.com/assets/colab-badge.svg\" alt=\"Open In Colab\"/></a>"
      ]
    },
    {
      "cell_type": "code",
      "execution_count": 13,
      "metadata": {
        "id": "0yDcUhQxvdZp"
      },
      "outputs": [],
      "source": [
        "import math\n",
        "import numpy as np\n",
        "import matplotlib.pyplot as plt\n",
        "import copy\n",
        "import graphviz\n",
        "%matplotlib inline"
      ]
    },
    {
      "cell_type": "code",
      "source": [
        "class Value:\n",
        "  def __init__(self, matrix, _children =(), _op='', _det=0, history = ()):\n",
        "    self.matrix = self.convert_matrix_to_doubles(matrix) #this is a matrix of the form [[1.0,2.0,3.0],[4.0,5.0,6.0],[7.0,8.0,9.0]] in other words an array of array's\n",
        "    self._det = _det\n",
        "    self.history = history\n",
        "\n",
        "  def __repr__(self):\n",
        "    #Return a string that represents the matrix.\n",
        "    s = \"{ \"\n",
        "    for row in self.matrix:\n",
        "      s += '[ '\n",
        "      for element in row:\n",
        "          s += str(element) + ' '\n",
        "      s += '] '\n",
        "    s += \"}\"\n",
        "    return s\n",
        "\n",
        "  def __mul__(self, other):\n",
        "\n",
        "    # Check if 'other' is a Value object. If not, assume it's a list and create a Value object from it.\n",
        "    if not isinstance(other, Value):\n",
        "      other = Value(other)\n",
        "\n",
        "    #reorder the matrices so that the order of multiplication is correct.\n",
        "    #I didnt originally account for this so this code is the result of fixing this without redoing some of the logic written below.\n",
        "    temp = self.matrix\n",
        "    self.matrix = other.matrix\n",
        "    other.matrix = temp\n",
        "\n",
        "\n",
        "\n",
        "    newMatrix = []\n",
        "\n",
        "    for rIndex in range(len(self.matrix)):\n",
        "      newRow = []\n",
        "      selfRow = self.getColAtIndex(rIndex)\n",
        "\n",
        "      for rIndexOfOther in range(len(other.matrix)):\n",
        "        otherRow = other.matrix[rIndexOfOther]\n",
        "        newRow.append(sum(ij * otherij for ij, otherij in zip(selfRow, otherRow)))\n",
        "\n",
        "      newMatrix.append(newRow)\n",
        "\n",
        "\n",
        "    newMatrix = self.transpose(newMatrix)\n",
        "\n",
        "    temp = self.matrix\n",
        "    self.matrix = other.matrix\n",
        "    other.matrix = temp\n",
        "\n",
        "    return Value(newMatrix, (self, other), '*')\n",
        "\n",
        "  def getColAtIndex(self, rIndex):\n",
        "      selfRow = []\n",
        "      for row in self.matrix:\n",
        "        for index, element in enumerate(row):\n",
        "          if index == rIndex:\n",
        "            selfRow.append(element)\n",
        "\n",
        "      return selfRow\n",
        "\n",
        "  def transpose(self, newMatrix):\n",
        "    transposeMatrix = []\n",
        "\n",
        "    for i in range(len(newMatrix[0])):\n",
        "      transposeRow = []\n",
        "      for row in newMatrix:\n",
        "        transposeRow.append(row[i])\n",
        "      transposeMatrix.append(transposeRow)\n",
        "\n",
        "    return transposeMatrix\n",
        "\n",
        "  def forwardPass(self):\n",
        "    step = 1\n",
        "    detSign = 1\n",
        "\n",
        "    history = [(copy.deepcopy(self.matrix), \"original Matrix\", \"step = \" + str(step), \"determinant = \" + str(detSign), detSign)]\n",
        "    step += 1\n",
        "\n",
        "    Matrix = Value(self.matrix)\n",
        "\n",
        "    for rIndex in range(len(Matrix.matrix)):\n",
        "    #Ensure there is a pivot value of non zero when i == j.\n",
        "      swapIndex = Matrix.findRowIndexWithNonZeroEntryInCol(Matrix.matrix, rIndex)\n",
        "      if swapIndex == rIndex:\n",
        "        detSign *= 1\n",
        "        history.append((copy.deepcopy(Matrix.matrix), \"we did not swap row \" + str(rIndex + 1), \"step = \" + str(step), \"determinant = \" + str(detSign), detSign))\n",
        "        step += 1\n",
        "      else:\n",
        "        detSign *= -1\n",
        "        Matrix = Matrix.swapRows(rIndex, swapIndex, len(Matrix.matrix))\n",
        "        history.append((copy.deepcopy(Matrix.matrix), \"swaped row \" + str(rIndex + 1) + \" with row \" + str(swapIndex + 1), \"step = \" + str(step), \"determinant = \" + str(detSign), detSign))  #adding each matrix modification\n",
        "        step += 1\n",
        "\n",
        "    #remove elements below the pivot\n",
        "      for subRowIndex in range( rIndex + 1, len(Matrix.matrix)):\n",
        "        subRow = Matrix.matrix[subRowIndex]\n",
        "        multiplier = -1 * (subRow[rIndex] / Matrix.matrix[rIndex][rIndex])\n",
        "        history.append((copy.deepcopy(Matrix.matrix), \" adding a \" + str(multiplier) + \" scalar multiple of row \" + str(rIndex + 1) + \" to row \" + str(subRowIndex + 1), \"step = \" + str(step), \"determinant = \" + str(detSign), detSign))\n",
        "\n",
        "        Matrix.matrix = self.addingAScalerMultiple(Matrix.matrix, rIndex, subRowIndex, multiplier)\n",
        "        history.append((copy.deepcopy(Matrix.matrix), \" Resulting Matrix \", \"step = \" + str(step), \"determinant = \" + str(detSign), detSign))\n",
        "        step += 1\n",
        "\n",
        "\n",
        "    Matrix._det = detSign * Matrix.getDeterminant()\n",
        "    Matrix.history = history\n",
        "    return Matrix\n",
        "\n",
        "\n",
        "  def addingAScalerMultiple(self, matrix, rIndex, subRowIndex, multiplier):\n",
        "    multipliedRow = [element * multiplier for element in matrix[rIndex]]\n",
        "    matrix[subRowIndex] = [x + y for x, y in zip(multipliedRow, matrix[subRowIndex])]\n",
        "    return matrix\n",
        "\n",
        "\n",
        "  def findRowIndexWithNonZeroEntryInCol(self, matrix, cIndex):\n",
        "    #Finds the index of the row that the row should be swapped with in order to have a pivot in each diagonal entry.\n",
        "    for rIndex, row in enumerate(matrix, start=cIndex):\n",
        "      if row[cIndex] != 0:\n",
        "        return rIndex\n",
        "\n",
        "  def swapRows(self, rIndex, swapIndex, n):\n",
        "    #create identity matrix of size n\n",
        "    identityMatrix = []\n",
        "\n",
        "    for i in range(n):\n",
        "      identityRow = []\n",
        "      for j in range(n):\n",
        "        if i == j:\n",
        "          identityRow.append(1)\n",
        "        else:\n",
        "          identityRow.append(0)\n",
        "      identityMatrix.append(identityRow)\n",
        "\n",
        "    #swap row at index rIndex and swapIndex\n",
        "    elementaryMatrix = identityMatrix\n",
        "    temp = elementaryMatrix[rIndex]\n",
        "    elementaryMatrix[rIndex] = elementaryMatrix[swapIndex]\n",
        "    elementaryMatrix[swapIndex] = temp\n",
        "\n",
        "\n",
        "    #Transform the matrix by the elementaryMatrix\n",
        "\n",
        "    transformedMatrix = Value(elementaryMatrix) * self.matrix\n",
        "\n",
        "    return transformedMatrix\n",
        "\n",
        "  #this is a helper function - to find the determinant use .forwardPass()\n",
        "  def getDeterminant(self):\n",
        "    det = 1\n",
        "    for index, row in enumerate(self.matrix):\n",
        "      det *= row[index]\n",
        "    return det\n",
        "\n",
        "  def format_matrix(self, m):\n",
        "    return '\\n'.join(['[ ' + ', '.join(str(elem) for elem in row) + ' ]' for row in m])\n",
        "\n",
        "  def convert_matrix_to_doubles(self, matrix):\n",
        "    return [[float(elem) for elem in row] for row in matrix]\n",
        "\n",
        "  def draw_dot(self):\n",
        "    dot = graphviz.Digraph()\n",
        "    dot.attr(rankdir='LR')  # Horizontal layout (left to right)\n",
        "\n",
        "    for i in range(len(self.history)):\n",
        "        matrix_str = self.format_matrix(self.history[i][0]).replace('\\n', '<BR/>')\n",
        "        description = self.history[i][1]\n",
        "        step = self.history[i][2]\n",
        "        determinant = self.history[i][3]\n",
        "\n",
        "        # HTML table with 3 rows for matrix, description, and step\n",
        "        label = f\"\"\"<\n",
        "        <TABLE BORDER=\"1\" CELLBORDER=\"1\" CELLSPACING=\"1\" CELLPADDING=\"4\">\n",
        "            <TR><TD>{matrix_str}</TD></TR>\n",
        "            <TR><TD>{determinant}</TD></TR>\n",
        "            <TR><TD>{description}</TD></TR>\n",
        "            <TR><TD>{step}</TD></TR>\n",
        "        </TABLE>\n",
        "        >\"\"\"\n",
        "\n",
        "        dot.node(str(i), label, shape=\"none\")\n",
        "\n",
        "    for i in range(len(self.history) - 1):\n",
        "        dot.edge(str(i), str(i + 1))\n",
        "\n",
        "\n",
        "    #now we multiply the diagonal\n",
        "\n",
        "    label = str(self.history[len(self.history)-1][4]) + \" * \"\n",
        "\n",
        "    for i in range(len(self.matrix)):\n",
        "      if i != len(self.matrix) - 1:\n",
        "        label += str(self.matrix[i][i]) + \" * \"\n",
        "      else:\n",
        "        label += str(self.matrix[i][i])\n",
        "\n",
        "    dot.node(str(len(self.history)), label, shape=\"box\")\n",
        "\n",
        "    dot.edge(str(len(self.history) - 1), str(len(self.history)))\n",
        "\n",
        "    dot.node(str(len(self.history) + 1), str(self._det), shape=\"box\")\n",
        "\n",
        "    dot.edge(str(len(self.history)), str(len(self.history) + 1))\n",
        "\n",
        "    return dot\n",
        "\n",
        "\n",
        "\n"
      ],
      "metadata": {
        "id": "e0Pl69MVvvdj"
      },
      "execution_count": 15,
      "outputs": []
    },
    {
      "cell_type": "code",
      "source": [
        "#print(x.matrix, \"matrix\")\n",
        "#print(y.matrix)\n",
        "#print(y.getDeterminant())\n",
        "#print(y._det)\n",
        "\n",
        "x = Value([[1,2,3],[4,5,6],[7,8,10]])\n",
        "\n",
        "y = x.forwardPass()\n",
        "\n",
        "print(\"Upper triangular matrix \", y.matrix)\n",
        "\n",
        "print(\"Resulting Determinant\", y._det)\n",
        "\n",
        "print(\"history of all the steps \", y.history)"
      ],
      "metadata": {
        "colab": {
          "base_uri": "https://localhost:8080/"
        },
        "id": "K9lSkno_3mqu",
        "outputId": "5c840fea-0b9a-406b-874e-a9cdffa60592"
      },
      "execution_count": 16,
      "outputs": [
        {
          "output_type": "stream",
          "name": "stdout",
          "text": [
            "Upper triangular matrix  [[1.0, 2.0, 3.0], [0.0, -3.0, -6.0], [0.0, 0.0, 1.0]]\n",
            "Resulting Determinant -3.0\n",
            "history of all the steps  [([[1.0, 2.0, 3.0], [4.0, 5.0, 6.0], [7.0, 8.0, 10.0]], 'original Matrix', 'step = 1', 'determinant = 1', 1), ([[1.0, 2.0, 3.0], [4.0, 5.0, 6.0], [7.0, 8.0, 10.0]], 'we did not swap row 1', 'step = 2', 'determinant = 1', 1), ([[1.0, 2.0, 3.0], [4.0, 5.0, 6.0], [7.0, 8.0, 10.0]], ' adding a -4.0 scalar multiple of row 1 to row 2', 'step = 3', 'determinant = 1', 1), ([[1.0, 2.0, 3.0], [0.0, -3.0, -6.0], [7.0, 8.0, 10.0]], ' Resulting Matrix ', 'step = 3', 'determinant = 1', 1), ([[1.0, 2.0, 3.0], [0.0, -3.0, -6.0], [7.0, 8.0, 10.0]], ' adding a -7.0 scalar multiple of row 1 to row 3', 'step = 4', 'determinant = 1', 1), ([[1.0, 2.0, 3.0], [0.0, -3.0, -6.0], [0.0, -6.0, -11.0]], ' Resulting Matrix ', 'step = 4', 'determinant = 1', 1), ([[1.0, 2.0, 3.0], [0.0, -3.0, -6.0], [0.0, -6.0, -11.0]], 'we did not swap row 2', 'step = 5', 'determinant = 1', 1), ([[1.0, 2.0, 3.0], [0.0, -3.0, -6.0], [0.0, -6.0, -11.0]], ' adding a -2.0 scalar multiple of row 2 to row 3', 'step = 6', 'determinant = 1', 1), ([[1.0, 2.0, 3.0], [0.0, -3.0, -6.0], [0.0, 0.0, 1.0]], ' Resulting Matrix ', 'step = 6', 'determinant = 1', 1), ([[1.0, 2.0, 3.0], [0.0, -3.0, -6.0], [0.0, 0.0, 1.0]], 'we did not swap row 3', 'step = 7', 'determinant = 1', 1)]\n"
          ]
        }
      ]
    },
    {
      "cell_type": "code",
      "source": [
        "from IPython.display import display\n",
        "\n",
        "dot = y.draw_dot()\n",
        "\n",
        "display(dot)"
      ],
      "metadata": {
        "id": "LsdKZsI7Rry2",
        "colab": {
          "base_uri": "https://localhost:8080/",
          "height": 245
        },
        "outputId": "44b882a6-1b0a-4f69-a91d-85e832714f6b"
      },
      "execution_count": 17,
      "outputs": [
        {
          "output_type": "display_data",
          "data": {
            "image/svg+xml": "<?xml version=\"1.0\" encoding=\"UTF-8\" standalone=\"no\"?>\n<!DOCTYPE svg PUBLIC \"-//W3C//DTD SVG 1.1//EN\"\n \"http://www.w3.org/Graphics/SVG/1.1/DTD/svg11.dtd\">\n<!-- Generated by graphviz version 2.43.0 (0)\n -->\n<!-- Title: %3 Pages: 1 -->\n<svg width=\"2432pt\" height=\"153pt\"\n viewBox=\"0.00 0.00 2432.00 153.00\" xmlns=\"http://www.w3.org/2000/svg\" xmlns:xlink=\"http://www.w3.org/1999/xlink\">\n<g id=\"graph0\" class=\"graph\" transform=\"scale(1 1) rotate(0) translate(4 149)\">\n<title>%3</title>\n<polygon fill=\"white\" stroke=\"transparent\" points=\"-4,4 -4,-149 2428,-149 2428,4 -4,4\"/>\n<!-- 0 -->\n<g id=\"node1\" class=\"node\">\n<title>0</title>\n<polygon fill=\"none\" stroke=\"black\" points=\"10.5,-83.5 10.5,-138.5 111.5,-138.5 111.5,-83.5 10.5,-83.5\"/>\n<text text-anchor=\"start\" x=\"19\" y=\"-122.3\" font-family=\"Times,serif\" font-size=\"14.00\">[ 1.0, 2.0, 3.0 ]</text>\n<text text-anchor=\"start\" x=\"19\" y=\"-107.3\" font-family=\"Times,serif\" font-size=\"14.00\">[ 4.0, 5.0, 6.0 ]</text>\n<text text-anchor=\"start\" x=\"15.5\" y=\"-92.3\" font-family=\"Times,serif\" font-size=\"14.00\">[ 7.0, 8.0, 10.0 ]</text>\n<polygon fill=\"none\" stroke=\"black\" points=\"10.5,-57.5 10.5,-82.5 111.5,-82.5 111.5,-57.5 10.5,-57.5\"/>\n<text text-anchor=\"start\" x=\"17\" y=\"-66.3\" font-family=\"Times,serif\" font-size=\"14.00\">determinant = 1</text>\n<polygon fill=\"none\" stroke=\"black\" points=\"10.5,-31.5 10.5,-56.5 111.5,-56.5 111.5,-31.5 10.5,-31.5\"/>\n<text text-anchor=\"start\" x=\"19\" y=\"-40.3\" font-family=\"Times,serif\" font-size=\"14.00\">original Matrix</text>\n<polygon fill=\"none\" stroke=\"black\" points=\"10.5,-5.5 10.5,-30.5 111.5,-30.5 111.5,-5.5 10.5,-5.5\"/>\n<text text-anchor=\"start\" x=\"38.5\" y=\"-14.3\" font-family=\"Times,serif\" font-size=\"14.00\">step = 1</text>\n<polygon fill=\"none\" stroke=\"black\" points=\"8,-4 8,-141 113,-141 113,-4 8,-4\"/>\n</g>\n<!-- 1 -->\n<g id=\"node2\" class=\"node\">\n<title>1</title>\n<polygon fill=\"none\" stroke=\"black\" points=\"167.5,-83.5 167.5,-138.5 302.5,-138.5 302.5,-83.5 167.5,-83.5\"/>\n<text text-anchor=\"start\" x=\"193\" y=\"-122.3\" font-family=\"Times,serif\" font-size=\"14.00\">[ 1.0, 2.0, 3.0 ]</text>\n<text text-anchor=\"start\" x=\"193\" y=\"-107.3\" font-family=\"Times,serif\" font-size=\"14.00\">[ 4.0, 5.0, 6.0 ]</text>\n<text text-anchor=\"start\" x=\"189.5\" y=\"-92.3\" font-family=\"Times,serif\" font-size=\"14.00\">[ 7.0, 8.0, 10.0 ]</text>\n<polygon fill=\"none\" stroke=\"black\" points=\"167.5,-57.5 167.5,-82.5 302.5,-82.5 302.5,-57.5 167.5,-57.5\"/>\n<text text-anchor=\"start\" x=\"191\" y=\"-66.3\" font-family=\"Times,serif\" font-size=\"14.00\">determinant = 1</text>\n<polygon fill=\"none\" stroke=\"black\" points=\"167.5,-31.5 167.5,-56.5 302.5,-56.5 302.5,-31.5 167.5,-31.5\"/>\n<text text-anchor=\"start\" x=\"172.5\" y=\"-40.3\" font-family=\"Times,serif\" font-size=\"14.00\">we did not swap row 1</text>\n<polygon fill=\"none\" stroke=\"black\" points=\"167.5,-5.5 167.5,-30.5 302.5,-30.5 302.5,-5.5 167.5,-5.5\"/>\n<text text-anchor=\"start\" x=\"212.5\" y=\"-14.3\" font-family=\"Times,serif\" font-size=\"14.00\">step = 2</text>\n<polygon fill=\"none\" stroke=\"black\" points=\"165,-4 165,-141 304,-141 304,-4 165,-4\"/>\n</g>\n<!-- 0&#45;&gt;1 -->\n<g id=\"edge1\" class=\"edge\">\n<title>0&#45;&gt;1</title>\n<path fill=\"none\" stroke=\"black\" d=\"M121.17,-72.5C129.47,-72.5 138.13,-72.5 146.8,-72.5\"/>\n<polygon fill=\"black\" stroke=\"black\" points=\"146.97,-76 156.97,-72.5 146.97,-69 146.97,-76\"/>\n</g>\n<!-- 2 -->\n<g id=\"node3\" class=\"node\">\n<title>2</title>\n<polygon fill=\"none\" stroke=\"black\" points=\"358.5,-83.5 358.5,-138.5 629.5,-138.5 629.5,-83.5 358.5,-83.5\"/>\n<text text-anchor=\"start\" x=\"452\" y=\"-122.3\" font-family=\"Times,serif\" font-size=\"14.00\">[ 1.0, 2.0, 3.0 ]</text>\n<text text-anchor=\"start\" x=\"452\" y=\"-107.3\" font-family=\"Times,serif\" font-size=\"14.00\">[ 4.0, 5.0, 6.0 ]</text>\n<text text-anchor=\"start\" x=\"448.5\" y=\"-92.3\" font-family=\"Times,serif\" font-size=\"14.00\">[ 7.0, 8.0, 10.0 ]</text>\n<polygon fill=\"none\" stroke=\"black\" points=\"358.5,-57.5 358.5,-82.5 629.5,-82.5 629.5,-57.5 358.5,-57.5\"/>\n<text text-anchor=\"start\" x=\"450\" y=\"-66.3\" font-family=\"Times,serif\" font-size=\"14.00\">determinant = 1</text>\n<polygon fill=\"none\" stroke=\"black\" points=\"358.5,-31.5 358.5,-56.5 629.5,-56.5 629.5,-31.5 358.5,-31.5\"/>\n<text text-anchor=\"start\" x=\"363.5\" y=\"-40.3\" font-family=\"Times,serif\" font-size=\"14.00\"> adding a &#45;4.0 scalar multiple of row 1 to row 2</text>\n<polygon fill=\"none\" stroke=\"black\" points=\"358.5,-5.5 358.5,-30.5 629.5,-30.5 629.5,-5.5 358.5,-5.5\"/>\n<text text-anchor=\"start\" x=\"471.5\" y=\"-14.3\" font-family=\"Times,serif\" font-size=\"14.00\">step = 3</text>\n<polygon fill=\"none\" stroke=\"black\" points=\"356,-4 356,-141 631,-141 631,-4 356,-4\"/>\n</g>\n<!-- 1&#45;&gt;2 -->\n<g id=\"edge2\" class=\"edge\">\n<title>1&#45;&gt;2</title>\n<path fill=\"none\" stroke=\"black\" d=\"M312.26,-72.5C320.45,-72.5 328.97,-72.5 337.66,-72.5\"/>\n<polygon fill=\"black\" stroke=\"black\" points=\"337.93,-76 347.93,-72.5 337.93,-69 337.93,-76\"/>\n</g>\n<!-- 3 -->\n<g id=\"node4\" class=\"node\">\n<title>3</title>\n<polygon fill=\"none\" stroke=\"black\" points=\"685.5,-83.5 685.5,-138.5 796.5,-138.5 796.5,-83.5 685.5,-83.5\"/>\n<text text-anchor=\"start\" x=\"699\" y=\"-122.3\" font-family=\"Times,serif\" font-size=\"14.00\">[ 1.0, 2.0, 3.0 ]</text>\n<text text-anchor=\"start\" x=\"694.5\" y=\"-107.3\" font-family=\"Times,serif\" font-size=\"14.00\">[ 0.0, &#45;3.0, &#45;6.0 ]</text>\n<text text-anchor=\"start\" x=\"695.5\" y=\"-92.3\" font-family=\"Times,serif\" font-size=\"14.00\">[ 7.0, 8.0, 10.0 ]</text>\n<polygon fill=\"none\" stroke=\"black\" points=\"685.5,-57.5 685.5,-82.5 796.5,-82.5 796.5,-57.5 685.5,-57.5\"/>\n<text text-anchor=\"start\" x=\"697\" y=\"-66.3\" font-family=\"Times,serif\" font-size=\"14.00\">determinant = 1</text>\n<polygon fill=\"none\" stroke=\"black\" points=\"685.5,-31.5 685.5,-56.5 796.5,-56.5 796.5,-31.5 685.5,-31.5\"/>\n<text text-anchor=\"start\" x=\"690.5\" y=\"-40.3\" font-family=\"Times,serif\" font-size=\"14.00\"> Resulting Matrix </text>\n<polygon fill=\"none\" stroke=\"black\" points=\"685.5,-5.5 685.5,-30.5 796.5,-30.5 796.5,-5.5 685.5,-5.5\"/>\n<text text-anchor=\"start\" x=\"718.5\" y=\"-14.3\" font-family=\"Times,serif\" font-size=\"14.00\">step = 3</text>\n<polygon fill=\"none\" stroke=\"black\" points=\"683,-4 683,-141 798,-141 798,-4 683,-4\"/>\n</g>\n<!-- 2&#45;&gt;3 -->\n<g id=\"edge3\" class=\"edge\">\n<title>2&#45;&gt;3</title>\n<path fill=\"none\" stroke=\"black\" d=\"M639.14,-72.5C647.88,-72.5 656.47,-72.5 664.71,-72.5\"/>\n<polygon fill=\"black\" stroke=\"black\" points=\"664.96,-76 674.96,-72.5 664.96,-69 664.96,-76\"/>\n</g>\n<!-- 4 -->\n<g id=\"node5\" class=\"node\">\n<title>4</title>\n<polygon fill=\"none\" stroke=\"black\" points=\"852.5,-83.5 852.5,-138.5 1123.5,-138.5 1123.5,-83.5 852.5,-83.5\"/>\n<text text-anchor=\"start\" x=\"946\" y=\"-122.3\" font-family=\"Times,serif\" font-size=\"14.00\">[ 1.0, 2.0, 3.0 ]</text>\n<text text-anchor=\"start\" x=\"941.5\" y=\"-107.3\" font-family=\"Times,serif\" font-size=\"14.00\">[ 0.0, &#45;3.0, &#45;6.0 ]</text>\n<text text-anchor=\"start\" x=\"942.5\" y=\"-92.3\" font-family=\"Times,serif\" font-size=\"14.00\">[ 7.0, 8.0, 10.0 ]</text>\n<polygon fill=\"none\" stroke=\"black\" points=\"852.5,-57.5 852.5,-82.5 1123.5,-82.5 1123.5,-57.5 852.5,-57.5\"/>\n<text text-anchor=\"start\" x=\"944\" y=\"-66.3\" font-family=\"Times,serif\" font-size=\"14.00\">determinant = 1</text>\n<polygon fill=\"none\" stroke=\"black\" points=\"852.5,-31.5 852.5,-56.5 1123.5,-56.5 1123.5,-31.5 852.5,-31.5\"/>\n<text text-anchor=\"start\" x=\"857.5\" y=\"-40.3\" font-family=\"Times,serif\" font-size=\"14.00\"> adding a &#45;7.0 scalar multiple of row 1 to row 3</text>\n<polygon fill=\"none\" stroke=\"black\" points=\"852.5,-5.5 852.5,-30.5 1123.5,-30.5 1123.5,-5.5 852.5,-5.5\"/>\n<text text-anchor=\"start\" x=\"965.5\" y=\"-14.3\" font-family=\"Times,serif\" font-size=\"14.00\">step = 4</text>\n<polygon fill=\"none\" stroke=\"black\" points=\"850,-4 850,-141 1125,-141 1125,-4 850,-4\"/>\n</g>\n<!-- 3&#45;&gt;4 -->\n<g id=\"edge4\" class=\"edge\">\n<title>3&#45;&gt;4</title>\n<path fill=\"none\" stroke=\"black\" d=\"M806.19,-72.5C814.33,-72.5 822.91,-72.5 831.73,-72.5\"/>\n<polygon fill=\"black\" stroke=\"black\" points=\"831.78,-76 841.78,-72.5 831.78,-69 831.78,-76\"/>\n</g>\n<!-- 5 -->\n<g id=\"node6\" class=\"node\">\n<title>5</title>\n<polygon fill=\"none\" stroke=\"black\" points=\"1179.5,-83.5 1179.5,-138.5 1290.5,-138.5 1290.5,-83.5 1179.5,-83.5\"/>\n<text text-anchor=\"start\" x=\"1193\" y=\"-122.3\" font-family=\"Times,serif\" font-size=\"14.00\">[ 1.0, 2.0, 3.0 ]</text>\n<text text-anchor=\"start\" x=\"1188.5\" y=\"-107.3\" font-family=\"Times,serif\" font-size=\"14.00\">[ 0.0, &#45;3.0, &#45;6.0 ]</text>\n<text text-anchor=\"start\" x=\"1185\" y=\"-92.3\" font-family=\"Times,serif\" font-size=\"14.00\">[ 0.0, &#45;6.0, &#45;11.0 ]</text>\n<polygon fill=\"none\" stroke=\"black\" points=\"1179.5,-57.5 1179.5,-82.5 1290.5,-82.5 1290.5,-57.5 1179.5,-57.5\"/>\n<text text-anchor=\"start\" x=\"1191\" y=\"-66.3\" font-family=\"Times,serif\" font-size=\"14.00\">determinant = 1</text>\n<polygon fill=\"none\" stroke=\"black\" points=\"1179.5,-31.5 1179.5,-56.5 1290.5,-56.5 1290.5,-31.5 1179.5,-31.5\"/>\n<text text-anchor=\"start\" x=\"1184.5\" y=\"-40.3\" font-family=\"Times,serif\" font-size=\"14.00\"> Resulting Matrix </text>\n<polygon fill=\"none\" stroke=\"black\" points=\"1179.5,-5.5 1179.5,-30.5 1290.5,-30.5 1290.5,-5.5 1179.5,-5.5\"/>\n<text text-anchor=\"start\" x=\"1212.5\" y=\"-14.3\" font-family=\"Times,serif\" font-size=\"14.00\">step = 4</text>\n<polygon fill=\"none\" stroke=\"black\" points=\"1177,-4 1177,-141 1292,-141 1292,-4 1177,-4\"/>\n</g>\n<!-- 4&#45;&gt;5 -->\n<g id=\"edge5\" class=\"edge\">\n<title>4&#45;&gt;5</title>\n<path fill=\"none\" stroke=\"black\" d=\"M1133.14,-72.5C1141.88,-72.5 1150.47,-72.5 1158.71,-72.5\"/>\n<polygon fill=\"black\" stroke=\"black\" points=\"1158.96,-76 1168.96,-72.5 1158.96,-69 1158.96,-76\"/>\n</g>\n<!-- 6 -->\n<g id=\"node7\" class=\"node\">\n<title>6</title>\n<polygon fill=\"none\" stroke=\"black\" points=\"1346.5,-83.5 1346.5,-138.5 1481.5,-138.5 1481.5,-83.5 1346.5,-83.5\"/>\n<text text-anchor=\"start\" x=\"1372\" y=\"-122.3\" font-family=\"Times,serif\" font-size=\"14.00\">[ 1.0, 2.0, 3.0 ]</text>\n<text text-anchor=\"start\" x=\"1367.5\" y=\"-107.3\" font-family=\"Times,serif\" font-size=\"14.00\">[ 0.0, &#45;3.0, &#45;6.0 ]</text>\n<text text-anchor=\"start\" x=\"1364\" y=\"-92.3\" font-family=\"Times,serif\" font-size=\"14.00\">[ 0.0, &#45;6.0, &#45;11.0 ]</text>\n<polygon fill=\"none\" stroke=\"black\" points=\"1346.5,-57.5 1346.5,-82.5 1481.5,-82.5 1481.5,-57.5 1346.5,-57.5\"/>\n<text text-anchor=\"start\" x=\"1370\" y=\"-66.3\" font-family=\"Times,serif\" font-size=\"14.00\">determinant = 1</text>\n<polygon fill=\"none\" stroke=\"black\" points=\"1346.5,-31.5 1346.5,-56.5 1481.5,-56.5 1481.5,-31.5 1346.5,-31.5\"/>\n<text text-anchor=\"start\" x=\"1351.5\" y=\"-40.3\" font-family=\"Times,serif\" font-size=\"14.00\">we did not swap row 2</text>\n<polygon fill=\"none\" stroke=\"black\" points=\"1346.5,-5.5 1346.5,-30.5 1481.5,-30.5 1481.5,-5.5 1346.5,-5.5\"/>\n<text text-anchor=\"start\" x=\"1391.5\" y=\"-14.3\" font-family=\"Times,serif\" font-size=\"14.00\">step = 5</text>\n<polygon fill=\"none\" stroke=\"black\" points=\"1344,-4 1344,-141 1483,-141 1483,-4 1344,-4\"/>\n</g>\n<!-- 5&#45;&gt;6 -->\n<g id=\"edge6\" class=\"edge\">\n<title>5&#45;&gt;6</title>\n<path fill=\"none\" stroke=\"black\" d=\"M1300.15,-72.5C1308.46,-72.5 1317.06,-72.5 1325.65,-72.5\"/>\n<polygon fill=\"black\" stroke=\"black\" points=\"1325.7,-76 1335.7,-72.5 1325.7,-69 1325.7,-76\"/>\n</g>\n<!-- 7 -->\n<g id=\"node8\" class=\"node\">\n<title>7</title>\n<polygon fill=\"none\" stroke=\"black\" points=\"1537.5,-83.5 1537.5,-138.5 1808.5,-138.5 1808.5,-83.5 1537.5,-83.5\"/>\n<text text-anchor=\"start\" x=\"1631\" y=\"-122.3\" font-family=\"Times,serif\" font-size=\"14.00\">[ 1.0, 2.0, 3.0 ]</text>\n<text text-anchor=\"start\" x=\"1626.5\" y=\"-107.3\" font-family=\"Times,serif\" font-size=\"14.00\">[ 0.0, &#45;3.0, &#45;6.0 ]</text>\n<text text-anchor=\"start\" x=\"1623\" y=\"-92.3\" font-family=\"Times,serif\" font-size=\"14.00\">[ 0.0, &#45;6.0, &#45;11.0 ]</text>\n<polygon fill=\"none\" stroke=\"black\" points=\"1537.5,-57.5 1537.5,-82.5 1808.5,-82.5 1808.5,-57.5 1537.5,-57.5\"/>\n<text text-anchor=\"start\" x=\"1629\" y=\"-66.3\" font-family=\"Times,serif\" font-size=\"14.00\">determinant = 1</text>\n<polygon fill=\"none\" stroke=\"black\" points=\"1537.5,-31.5 1537.5,-56.5 1808.5,-56.5 1808.5,-31.5 1537.5,-31.5\"/>\n<text text-anchor=\"start\" x=\"1542.5\" y=\"-40.3\" font-family=\"Times,serif\" font-size=\"14.00\"> adding a &#45;2.0 scalar multiple of row 2 to row 3</text>\n<polygon fill=\"none\" stroke=\"black\" points=\"1537.5,-5.5 1537.5,-30.5 1808.5,-30.5 1808.5,-5.5 1537.5,-5.5\"/>\n<text text-anchor=\"start\" x=\"1650.5\" y=\"-14.3\" font-family=\"Times,serif\" font-size=\"14.00\">step = 6</text>\n<polygon fill=\"none\" stroke=\"black\" points=\"1535,-4 1535,-141 1810,-141 1810,-4 1535,-4\"/>\n</g>\n<!-- 6&#45;&gt;7 -->\n<g id=\"edge7\" class=\"edge\">\n<title>6&#45;&gt;7</title>\n<path fill=\"none\" stroke=\"black\" d=\"M1491.26,-72.5C1499.45,-72.5 1507.97,-72.5 1516.66,-72.5\"/>\n<polygon fill=\"black\" stroke=\"black\" points=\"1516.93,-76 1526.93,-72.5 1516.93,-69 1516.93,-76\"/>\n</g>\n<!-- 8 -->\n<g id=\"node9\" class=\"node\">\n<title>8</title>\n<polygon fill=\"none\" stroke=\"black\" points=\"1864.5,-83.5 1864.5,-138.5 1975.5,-138.5 1975.5,-83.5 1864.5,-83.5\"/>\n<text text-anchor=\"start\" x=\"1878\" y=\"-122.3\" font-family=\"Times,serif\" font-size=\"14.00\">[ 1.0, 2.0, 3.0 ]</text>\n<text text-anchor=\"start\" x=\"1873.5\" y=\"-107.3\" font-family=\"Times,serif\" font-size=\"14.00\">[ 0.0, &#45;3.0, &#45;6.0 ]</text>\n<text text-anchor=\"start\" x=\"1878\" y=\"-92.3\" font-family=\"Times,serif\" font-size=\"14.00\">[ 0.0, 0.0, 1.0 ]</text>\n<polygon fill=\"none\" stroke=\"black\" points=\"1864.5,-57.5 1864.5,-82.5 1975.5,-82.5 1975.5,-57.5 1864.5,-57.5\"/>\n<text text-anchor=\"start\" x=\"1876\" y=\"-66.3\" font-family=\"Times,serif\" font-size=\"14.00\">determinant = 1</text>\n<polygon fill=\"none\" stroke=\"black\" points=\"1864.5,-31.5 1864.5,-56.5 1975.5,-56.5 1975.5,-31.5 1864.5,-31.5\"/>\n<text text-anchor=\"start\" x=\"1869.5\" y=\"-40.3\" font-family=\"Times,serif\" font-size=\"14.00\"> Resulting Matrix </text>\n<polygon fill=\"none\" stroke=\"black\" points=\"1864.5,-5.5 1864.5,-30.5 1975.5,-30.5 1975.5,-5.5 1864.5,-5.5\"/>\n<text text-anchor=\"start\" x=\"1897.5\" y=\"-14.3\" font-family=\"Times,serif\" font-size=\"14.00\">step = 6</text>\n<polygon fill=\"none\" stroke=\"black\" points=\"1862,-4 1862,-141 1977,-141 1977,-4 1862,-4\"/>\n</g>\n<!-- 7&#45;&gt;8 -->\n<g id=\"edge8\" class=\"edge\">\n<title>7&#45;&gt;8</title>\n<path fill=\"none\" stroke=\"black\" d=\"M1818.14,-72.5C1826.88,-72.5 1835.47,-72.5 1843.71,-72.5\"/>\n<polygon fill=\"black\" stroke=\"black\" points=\"1843.96,-76 1853.96,-72.5 1843.96,-69 1843.96,-76\"/>\n</g>\n<!-- 9 -->\n<g id=\"node10\" class=\"node\">\n<title>9</title>\n<polygon fill=\"none\" stroke=\"black\" points=\"2031.5,-83.5 2031.5,-138.5 2166.5,-138.5 2166.5,-83.5 2031.5,-83.5\"/>\n<text text-anchor=\"start\" x=\"2057\" y=\"-122.3\" font-family=\"Times,serif\" font-size=\"14.00\">[ 1.0, 2.0, 3.0 ]</text>\n<text text-anchor=\"start\" x=\"2052.5\" y=\"-107.3\" font-family=\"Times,serif\" font-size=\"14.00\">[ 0.0, &#45;3.0, &#45;6.0 ]</text>\n<text text-anchor=\"start\" x=\"2057\" y=\"-92.3\" font-family=\"Times,serif\" font-size=\"14.00\">[ 0.0, 0.0, 1.0 ]</text>\n<polygon fill=\"none\" stroke=\"black\" points=\"2031.5,-57.5 2031.5,-82.5 2166.5,-82.5 2166.5,-57.5 2031.5,-57.5\"/>\n<text text-anchor=\"start\" x=\"2055\" y=\"-66.3\" font-family=\"Times,serif\" font-size=\"14.00\">determinant = 1</text>\n<polygon fill=\"none\" stroke=\"black\" points=\"2031.5,-31.5 2031.5,-56.5 2166.5,-56.5 2166.5,-31.5 2031.5,-31.5\"/>\n<text text-anchor=\"start\" x=\"2036.5\" y=\"-40.3\" font-family=\"Times,serif\" font-size=\"14.00\">we did not swap row 3</text>\n<polygon fill=\"none\" stroke=\"black\" points=\"2031.5,-5.5 2031.5,-30.5 2166.5,-30.5 2166.5,-5.5 2031.5,-5.5\"/>\n<text text-anchor=\"start\" x=\"2076.5\" y=\"-14.3\" font-family=\"Times,serif\" font-size=\"14.00\">step = 7</text>\n<polygon fill=\"none\" stroke=\"black\" points=\"2029,-4 2029,-141 2168,-141 2168,-4 2029,-4\"/>\n</g>\n<!-- 8&#45;&gt;9 -->\n<g id=\"edge9\" class=\"edge\">\n<title>8&#45;&gt;9</title>\n<path fill=\"none\" stroke=\"black\" d=\"M1985.15,-72.5C1993.46,-72.5 2002.06,-72.5 2010.65,-72.5\"/>\n<polygon fill=\"black\" stroke=\"black\" points=\"2010.7,-76 2020.7,-72.5 2010.7,-69 2010.7,-76\"/>\n</g>\n<!-- 10 -->\n<g id=\"node11\" class=\"node\">\n<title>10</title>\n<polygon fill=\"none\" stroke=\"black\" points=\"2334,-90.5 2212,-90.5 2212,-54.5 2334,-54.5 2334,-90.5\"/>\n<text text-anchor=\"middle\" x=\"2273\" y=\"-68.8\" font-family=\"Times,serif\" font-size=\"14.00\">1 * 1.0 * &#45;3.0 * 1.0</text>\n</g>\n<!-- 9&#45;&gt;10 -->\n<g id=\"edge10\" class=\"edge\">\n<title>9&#45;&gt;10</title>\n<path fill=\"none\" stroke=\"black\" d=\"M2176.17,-72.5C2184.67,-72.5 2193.31,-72.5 2201.73,-72.5\"/>\n<polygon fill=\"black\" stroke=\"black\" points=\"2201.88,-76 2211.88,-72.5 2201.88,-69 2201.88,-76\"/>\n</g>\n<!-- 11 -->\n<g id=\"node12\" class=\"node\">\n<title>11</title>\n<polygon fill=\"none\" stroke=\"black\" points=\"2424,-90.5 2370,-90.5 2370,-54.5 2424,-54.5 2424,-90.5\"/>\n<text text-anchor=\"middle\" x=\"2397\" y=\"-68.8\" font-family=\"Times,serif\" font-size=\"14.00\">&#45;3.0</text>\n</g>\n<!-- 10&#45;&gt;11 -->\n<g id=\"edge11\" class=\"edge\">\n<title>10&#45;&gt;11</title>\n<path fill=\"none\" stroke=\"black\" d=\"M2334.29,-72.5C2342.97,-72.5 2351.67,-72.5 2359.69,-72.5\"/>\n<polygon fill=\"black\" stroke=\"black\" points=\"2359.77,-76 2369.77,-72.5 2359.77,-69 2359.77,-76\"/>\n</g>\n</g>\n</svg>\n",
            "text/plain": [
              "<graphviz.graphs.Digraph at 0x7bbfbc817dd0>"
            ]
          },
          "metadata": {}
        }
      ]
    },
    {
      "cell_type": "markdown",
      "source": [
        "Other use cases"
      ],
      "metadata": {
        "id": "JGTaqNusrDxR"
      }
    },
    {
      "cell_type": "code",
      "source": [
        "x = Value([[1,2,3],[4,5,6],[7,8,9]])\n",
        "x"
      ],
      "metadata": {
        "colab": {
          "base_uri": "https://localhost:8080/"
        },
        "id": "HsfnHIuG08CR",
        "outputId": "390f4c44-ccd3-4c84-d3da-ebb7998739c8"
      },
      "execution_count": 18,
      "outputs": [
        {
          "output_type": "execute_result",
          "data": {
            "text/plain": [
              "{ [ 1.0 2.0 3.0 ] [ 4.0 5.0 6.0 ] [ 7.0 8.0 9.0 ] }"
            ]
          },
          "metadata": {},
          "execution_count": 18
        }
      ]
    },
    {
      "cell_type": "markdown",
      "source": [
        "Swapping rows 1 and 3"
      ],
      "metadata": {
        "id": "O29Z3M8dGTtw"
      }
    },
    {
      "cell_type": "code",
      "source": [
        "x = Value([[1,2,3],[4,5,6],[7,8,9]])\n",
        "y = Value([[0,0,1],[0,1,0],[1,0,0]])\n",
        "\n",
        "z = y * x\n",
        "print(z)"
      ],
      "metadata": {
        "colab": {
          "base_uri": "https://localhost:8080/"
        },
        "id": "0hTKGyH86BFw",
        "outputId": "339d534b-3655-4b0d-bac1-8fce372542ec"
      },
      "execution_count": 19,
      "outputs": [
        {
          "output_type": "stream",
          "name": "stdout",
          "text": [
            "{ [ 7.0 8.0 9.0 ] [ 4.0 5.0 6.0 ] [ 1.0 2.0 3.0 ] }\n"
          ]
        }
      ]
    },
    {
      "cell_type": "markdown",
      "source": [
        "Scaling row 1 by 3"
      ],
      "metadata": {
        "id": "-qm7qkLyGWgW"
      }
    },
    {
      "cell_type": "code",
      "source": [
        "x = Value([[1,2,3],[4,5,6],[7,8,9]])\n",
        "y = Value([[3,0,0],[0,1,0],[0,0,1]])\n",
        "z = y * x\n",
        "print(z)"
      ],
      "metadata": {
        "colab": {
          "base_uri": "https://localhost:8080/"
        },
        "id": "vcwfEqbgFgjG",
        "outputId": "2578b905-737d-43b7-d810-c63d6458d6ea"
      },
      "execution_count": 20,
      "outputs": [
        {
          "output_type": "stream",
          "name": "stdout",
          "text": [
            "{ [ 3.0 6.0 9.0 ] [ 4.0 5.0 6.0 ] [ 7.0 8.0 9.0 ] }\n"
          ]
        }
      ]
    },
    {
      "cell_type": "markdown",
      "source": [
        "Adding 2*row 3 to row 1."
      ],
      "metadata": {
        "id": "KSYvCFRXGcRl"
      }
    },
    {
      "cell_type": "code",
      "source": [
        "x = Value([[1,2,3],[4,5,6],[7,8,9]])\n",
        "y = Value([[1,0,2],[0,1,0],[0,0,1]])\n",
        "z = y * x\n",
        "print(z)"
      ],
      "metadata": {
        "colab": {
          "base_uri": "https://localhost:8080/"
        },
        "id": "r-HH-MDEFuw0",
        "outputId": "6edd79a6-9d93-4df5-85e0-9bd34ef14c4e"
      },
      "execution_count": 21,
      "outputs": [
        {
          "output_type": "stream",
          "name": "stdout",
          "text": [
            "{ [ 15.0 18.0 21.0 ] [ 4.0 5.0 6.0 ] [ 7.0 8.0 9.0 ] }\n"
          ]
        }
      ]
    },
    {
      "cell_type": "code",
      "source": [
        "P = Value([[-1,0],[-1,1]])\n",
        "C = Value([[1,-1],[1,1]])\n",
        "A = Value([[0,1],[-2,2]])"
      ],
      "metadata": {
        "id": "w7so1Ao-YKx1"
      },
      "execution_count": 22,
      "outputs": []
    },
    {
      "cell_type": "code",
      "source": [
        "z = A*P\n",
        "z"
      ],
      "metadata": {
        "id": "jnxUn4GXVTWy",
        "colab": {
          "base_uri": "https://localhost:8080/"
        },
        "outputId": "2604449e-014f-4966-a20f-5e244bce0fc1"
      },
      "execution_count": 23,
      "outputs": [
        {
          "output_type": "execute_result",
          "data": {
            "text/plain": [
              "{ [ -1.0 1.0 ] [ 0.0 2.0 ] }"
            ]
          },
          "metadata": {},
          "execution_count": 23
        }
      ]
    }
  ]
}